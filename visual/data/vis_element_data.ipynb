{
 "cells": [
  {
   "cell_type": "code",
   "execution_count": 4,
   "metadata": {},
   "outputs": [],
   "source": [
    "import h5py"
   ]
  },
  {
   "cell_type": "code",
   "execution_count": 6,
   "metadata": {},
   "outputs": [],
   "source": [
    "# elt_data_path = \"/mnt/beegfs/userdata/j_wang/Algorithm_Resources/dig/downloads/dig_data_files/element_data.h5\"\n",
    "elt_data_path = \"D:\\data\\element_data.h5\""
   ]
  },
  {
   "cell_type": "code",
   "execution_count": 7,
   "metadata": {},
   "outputs": [
    {
     "name": "stdout",
     "output_type": "stream",
     "text": [
      "<HDF5 dataset \"substitution_idx\": shape (192,), type \"|S7\">\n",
      "<HDF5 group \"/window_10000\" (2 members)>\n"
     ]
    }
   ],
   "source": [
    "with h5py.File(elt_data_path, \"r\") as fd:\n",
    "    for k in fd.keys():\n",
    "        print(fd[k])"
   ]
  },
  {
   "cell_type": "code",
   "execution_count": 9,
   "metadata": {},
   "outputs": [
    {
     "data": {
      "text/plain": [
       "<KeysViewHDF5 ['full_window_si_index', 'full_window_si_values']>"
      ]
     },
     "execution_count": 9,
     "metadata": {},
     "output_type": "execute_result"
    }
   ],
   "source": [
    "fd = h5py.File(elt_data_path, \"r\")\n",
    "\n",
    "substitution_idx_ds = fd['substitution_idx']\n",
    "fd[\"window_10000\"].keys()"
   ]
  },
  {
   "cell_type": "code",
   "execution_count": 10,
   "metadata": {},
   "outputs": [
    {
     "data": {
      "text/plain": [
       "<HDF5 dataset \"full_window_si_index\": shape (288091, 3), type \"<i4\">"
      ]
     },
     "execution_count": 10,
     "metadata": {},
     "output_type": "execute_result"
    }
   ],
   "source": [
    "fd[\"window_10000\"]['full_window_si_index']"
   ]
  },
  {
   "cell_type": "code",
   "execution_count": 11,
   "metadata": {},
   "outputs": [
    {
     "data": {
      "text/plain": [
       "<HDF5 dataset \"full_window_si_values\": shape (288091, 64), type \"<i8\">"
      ]
     },
     "execution_count": 11,
     "metadata": {},
     "output_type": "execute_result"
    }
   ],
   "source": [
    "fd[\"window_10000\"]['full_window_si_values']"
   ]
  },
  {
   "cell_type": "code",
   "execution_count": 12,
   "metadata": {},
   "outputs": [
    {
     "data": {
      "text/plain": [
       "array([    1,     0, 10000])"
      ]
     },
     "execution_count": 12,
     "metadata": {},
     "output_type": "execute_result"
    }
   ],
   "source": [
    "fd[\"window_10000\"]['full_window_si_index'][0]"
   ]
  },
  {
   "cell_type": "code",
   "execution_count": 13,
   "metadata": {},
   "outputs": [
    {
     "data": {
      "text/plain": [
       "array([0, 0, 0, 0, 0, 0, 0, 0, 0, 0, 0, 0, 0, 0, 0, 0, 0, 0, 0, 0, 0, 0,\n",
       "       0, 0, 0, 0, 0, 0, 0, 0, 0, 0, 0, 0, 0, 0, 0, 0, 0, 0, 0, 0, 0, 0,\n",
       "       0, 0, 0, 0, 0, 0, 0, 0, 0, 0, 0, 0, 0, 0, 0, 0, 0, 0, 0, 0],\n",
       "      dtype=int64)"
      ]
     },
     "execution_count": 13,
     "metadata": {},
     "output_type": "execute_result"
    }
   ],
   "source": [
    "fd[\"window_10000\"]['full_window_si_values'][0]"
   ]
  },
  {
   "cell_type": "code",
   "execution_count": 15,
   "metadata": {},
   "outputs": [
    {
     "data": {
      "text/plain": [
       "array([b'AAA>ACA', b'AAA>AGA', b'AAA>ATA', b'AAC>ACC', b'AAC>AGC',\n",
       "       b'AAC>ATC', b'AAG>ACG', b'AAG>AGG', b'AAG>ATG', b'AAT>ACT',\n",
       "       b'AAT>AGT', b'AAT>ATT', b'ACA>AAA', b'ACA>AGA', b'ACA>ATA',\n",
       "       b'ACC>AAC', b'ACC>AGC', b'ACC>ATC', b'ACG>AAG', b'ACG>AGG',\n",
       "       b'ACG>ATG', b'ACT>AAT', b'ACT>AGT', b'ACT>ATT', b'AGA>AAA',\n",
       "       b'AGA>ACA', b'AGA>ATA', b'AGC>AAC', b'AGC>ACC', b'AGC>ATC',\n",
       "       b'AGG>AAG', b'AGG>ACG', b'AGG>ATG', b'AGT>AAT', b'AGT>ACT',\n",
       "       b'AGT>ATT', b'ATA>AAA', b'ATA>ACA', b'ATA>AGA', b'ATC>AAC',\n",
       "       b'ATC>ACC', b'ATC>AGC', b'ATG>AAG', b'ATG>ACG', b'ATG>AGG',\n",
       "       b'ATT>AAT', b'ATT>ACT', b'ATT>AGT', b'CAA>CCA', b'CAA>CGA',\n",
       "       b'CAA>CTA', b'CAC>CCC', b'CAC>CGC', b'CAC>CTC', b'CAG>CCG',\n",
       "       b'CAG>CGG', b'CAG>CTG', b'CAT>CCT', b'CAT>CGT', b'CAT>CTT',\n",
       "       b'CCA>CAA', b'CCA>CGA', b'CCA>CTA', b'CCC>CAC', b'CCC>CGC',\n",
       "       b'CCC>CTC', b'CCG>CAG', b'CCG>CGG', b'CCG>CTG', b'CCT>CAT',\n",
       "       b'CCT>CGT', b'CCT>CTT', b'CGA>CAA', b'CGA>CCA', b'CGA>CTA',\n",
       "       b'CGC>CAC', b'CGC>CCC', b'CGC>CTC', b'CGG>CAG', b'CGG>CCG',\n",
       "       b'CGG>CTG', b'CGT>CAT', b'CGT>CCT', b'CGT>CTT', b'CTA>CAA',\n",
       "       b'CTA>CCA', b'CTA>CGA', b'CTC>CAC', b'CTC>CCC', b'CTC>CGC',\n",
       "       b'CTG>CAG', b'CTG>CCG', b'CTG>CGG', b'CTT>CAT', b'CTT>CCT',\n",
       "       b'CTT>CGT', b'GAA>GCA', b'GAA>GGA', b'GAA>GTA', b'GAC>GCC',\n",
       "       b'GAC>GGC', b'GAC>GTC', b'GAG>GCG', b'GAG>GGG', b'GAG>GTG',\n",
       "       b'GAT>GCT', b'GAT>GGT', b'GAT>GTT', b'GCA>GAA', b'GCA>GGA',\n",
       "       b'GCA>GTA', b'GCC>GAC', b'GCC>GGC', b'GCC>GTC', b'GCG>GAG',\n",
       "       b'GCG>GGG', b'GCG>GTG', b'GCT>GAT', b'GCT>GGT', b'GCT>GTT',\n",
       "       b'GGA>GAA', b'GGA>GCA', b'GGA>GTA', b'GGC>GAC', b'GGC>GCC',\n",
       "       b'GGC>GTC', b'GGG>GAG', b'GGG>GCG', b'GGG>GTG', b'GGT>GAT',\n",
       "       b'GGT>GCT', b'GGT>GTT', b'GTA>GAA', b'GTA>GCA', b'GTA>GGA',\n",
       "       b'GTC>GAC', b'GTC>GCC', b'GTC>GGC', b'GTG>GAG', b'GTG>GCG',\n",
       "       b'GTG>GGG', b'GTT>GAT', b'GTT>GCT', b'GTT>GGT', b'TAA>TCA',\n",
       "       b'TAA>TGA', b'TAA>TTA', b'TAC>TCC', b'TAC>TGC', b'TAC>TTC',\n",
       "       b'TAG>TCG', b'TAG>TGG', b'TAG>TTG', b'TAT>TCT', b'TAT>TGT',\n",
       "       b'TAT>TTT', b'TCA>TAA', b'TCA>TGA', b'TCA>TTA', b'TCC>TAC',\n",
       "       b'TCC>TGC', b'TCC>TTC', b'TCG>TAG', b'TCG>TGG', b'TCG>TTG',\n",
       "       b'TCT>TAT', b'TCT>TGT', b'TCT>TTT', b'TGA>TAA', b'TGA>TCA',\n",
       "       b'TGA>TTA', b'TGC>TAC', b'TGC>TCC', b'TGC>TTC', b'TGG>TAG',\n",
       "       b'TGG>TCG', b'TGG>TTG', b'TGT>TAT', b'TGT>TCT', b'TGT>TTT',\n",
       "       b'TTA>TAA', b'TTA>TCA', b'TTA>TGA', b'TTC>TAC', b'TTC>TCC',\n",
       "       b'TTC>TGC', b'TTG>TAG', b'TTG>TCG', b'TTG>TGG', b'TTT>TAT',\n",
       "       b'TTT>TCT', b'TTT>TGT'], dtype='|S7')"
      ]
     },
     "execution_count": 15,
     "metadata": {},
     "output_type": "execute_result"
    }
   ],
   "source": [
    "substitution_idx_ds[:]"
   ]
  },
  {
   "cell_type": "code",
   "execution_count": null,
   "metadata": {},
   "outputs": [],
   "source": []
  }
 ],
 "metadata": {
  "kernelspec": {
   "display_name": "Python 3",
   "language": "python",
   "name": "python3"
  },
  "language_info": {
   "codemirror_mode": {
    "name": "ipython",
    "version": 3
   },
   "file_extension": ".py",
   "mimetype": "text/x-python",
   "name": "python",
   "nbconvert_exporter": "python",
   "pygments_lexer": "ipython3",
   "version": "3.10.0"
  }
 },
 "nbformat": 4,
 "nbformat_minor": 4
}
