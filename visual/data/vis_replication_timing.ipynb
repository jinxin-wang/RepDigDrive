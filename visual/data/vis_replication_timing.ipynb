{
 "cells": [
  {
   "cell_type": "code",
   "execution_count": 1,
   "metadata": {},
   "outputs": [],
   "source": [
    "import pyBigWig as bw\n",
    "import bbi"
   ]
  },
  {
   "cell_type": "code",
   "execution_count": 2,
   "metadata": {},
   "outputs": [],
   "source": [
    "rt_path = \"/mnt/beegfs/userdata/j_wang/Algorithm_Resources/dig/Replication_Timing/wgEncodeUwRepliSeqHelas3WaveSignalRep1.bigWig\""
   ]
  },
  {
   "cell_type": "code",
   "execution_count": 3,
   "metadata": {},
   "outputs": [],
   "source": [
    "rt_fd = bbi.open(rt_path)"
   ]
  },
  {
   "cell_type": "code",
   "execution_count": 4,
   "metadata": {},
   "outputs": [
    {
     "data": {
      "text/plain": [
       "{'name': 'bedGraph',\n",
       " 'comment': '',\n",
       " 'columns': ['chrom', 'start', 'end', 'value'],\n",
       " 'dtypes': {'chrom': 'object',\n",
       "  'start': 'uint32',\n",
       "  'end': 'uint32',\n",
       "  'value': 'float32'},\n",
       " 'description': {'chrom': 'Reference sequence chromosome or scaffold',\n",
       "  'start': 'Start position in chromosome',\n",
       "  'end': 'End position in chromosome',\n",
       "  'value': 'Data value'}}"
      ]
     },
     "execution_count": 4,
     "metadata": {},
     "output_type": "execute_result"
    }
   ],
   "source": [
    "rt_fd.schema"
   ]
  },
  {
   "cell_type": "code",
   "execution_count": 5,
   "metadata": {},
   "outputs": [
    {
     "data": {
      "text/plain": [
       "{'chr1': 249250621,\n",
       " 'chr10': 135534747,\n",
       " 'chr11': 135006516,\n",
       " 'chr12': 133851895,\n",
       " 'chr13': 115169878,\n",
       " 'chr14': 107349540,\n",
       " 'chr15': 102531392,\n",
       " 'chr16': 90354753,\n",
       " 'chr17': 81195210,\n",
       " 'chr18': 78077248,\n",
       " 'chr19': 59128983,\n",
       " 'chr2': 243199373,\n",
       " 'chr20': 63025520,\n",
       " 'chr21': 48129895,\n",
       " 'chr22': 51304566,\n",
       " 'chr3': 198022430,\n",
       " 'chr4': 191154276,\n",
       " 'chr5': 180915260,\n",
       " 'chr6': 171115067,\n",
       " 'chr7': 159138663,\n",
       " 'chr8': 146364022,\n",
       " 'chr9': 141213431,\n",
       " 'chrX': 155270560}"
      ]
     },
     "execution_count": 5,
     "metadata": {},
     "output_type": "execute_result"
    }
   ],
   "source": [
    "rt_fd.chromsizes"
   ]
  },
  {
   "cell_type": "code",
   "execution_count": 6,
   "metadata": {},
   "outputs": [
    {
     "data": {
      "text/plain": [
       "{'version': 4,\n",
       " 'isCompressed': True,\n",
       " 'isSwapped': 0,\n",
       " 'primaryDataSize': 9881795,\n",
       " 'zoomLevels': 5,\n",
       " 'chromCount': 23,\n",
       " 'summary': {'basesCovered': 3040663810,\n",
       "  'sum': 132275053031.9935,\n",
       "  'mean': 43.502031561981035,\n",
       "  'min': -5.460803031921387,\n",
       "  'max': 85.22860717773438,\n",
       "  'std': 23.422216622674977}}"
      ]
     },
     "execution_count": 6,
     "metadata": {},
     "output_type": "execute_result"
    }
   ],
   "source": [
    "rt_fd.info"
   ]
  },
  {
   "cell_type": "code",
   "execution_count": 7,
   "metadata": {},
   "outputs": [
    {
     "data": {
      "text/html": [
       "<div>\n",
       "<style scoped>\n",
       "    .dataframe tbody tr th:only-of-type {\n",
       "        vertical-align: middle;\n",
       "    }\n",
       "\n",
       "    .dataframe tbody tr th {\n",
       "        vertical-align: top;\n",
       "    }\n",
       "\n",
       "    .dataframe thead th {\n",
       "        text-align: right;\n",
       "    }\n",
       "</style>\n",
       "<table border=\"1\" class=\"dataframe\">\n",
       "  <thead>\n",
       "    <tr style=\"text-align: right;\">\n",
       "      <th></th>\n",
       "      <th>chrom</th>\n",
       "      <th>start</th>\n",
       "      <th>end</th>\n",
       "      <th>value</th>\n",
       "    </tr>\n",
       "  </thead>\n",
       "  <tbody>\n",
       "    <tr>\n",
       "      <th>0</th>\n",
       "      <td>chr1</td>\n",
       "      <td>24499</td>\n",
       "      <td>25499</td>\n",
       "      <td>54.118370</td>\n",
       "    </tr>\n",
       "    <tr>\n",
       "      <th>1</th>\n",
       "      <td>chr1</td>\n",
       "      <td>25499</td>\n",
       "      <td>26499</td>\n",
       "      <td>54.116859</td>\n",
       "    </tr>\n",
       "    <tr>\n",
       "      <th>2</th>\n",
       "      <td>chr1</td>\n",
       "      <td>26499</td>\n",
       "      <td>27499</td>\n",
       "      <td>54.113842</td>\n",
       "    </tr>\n",
       "    <tr>\n",
       "      <th>3</th>\n",
       "      <td>chr1</td>\n",
       "      <td>27499</td>\n",
       "      <td>28499</td>\n",
       "      <td>54.109318</td>\n",
       "    </tr>\n",
       "    <tr>\n",
       "      <th>4</th>\n",
       "      <td>chr1</td>\n",
       "      <td>28499</td>\n",
       "      <td>29499</td>\n",
       "      <td>54.103291</td>\n",
       "    </tr>\n",
       "    <tr>\n",
       "      <th>...</th>\n",
       "      <td>...</td>\n",
       "      <td>...</td>\n",
       "      <td>...</td>\n",
       "      <td>...</td>\n",
       "    </tr>\n",
       "    <tr>\n",
       "      <th>71</th>\n",
       "      <td>chr1</td>\n",
       "      <td>95499</td>\n",
       "      <td>96499</td>\n",
       "      <td>50.175915</td>\n",
       "    </tr>\n",
       "    <tr>\n",
       "      <th>72</th>\n",
       "      <td>chr1</td>\n",
       "      <td>96499</td>\n",
       "      <td>97499</td>\n",
       "      <td>50.071140</td>\n",
       "    </tr>\n",
       "    <tr>\n",
       "      <th>73</th>\n",
       "      <td>chr1</td>\n",
       "      <td>97499</td>\n",
       "      <td>98499</td>\n",
       "      <td>49.965553</td>\n",
       "    </tr>\n",
       "    <tr>\n",
       "      <th>74</th>\n",
       "      <td>chr1</td>\n",
       "      <td>98499</td>\n",
       "      <td>99499</td>\n",
       "      <td>49.859196</td>\n",
       "    </tr>\n",
       "    <tr>\n",
       "      <th>75</th>\n",
       "      <td>chr1</td>\n",
       "      <td>99499</td>\n",
       "      <td>100000</td>\n",
       "      <td>49.752087</td>\n",
       "    </tr>\n",
       "  </tbody>\n",
       "</table>\n",
       "<p>76 rows × 4 columns</p>\n",
       "</div>"
      ],
      "text/plain": [
       "   chrom  start     end      value\n",
       "0   chr1  24499   25499  54.118370\n",
       "1   chr1  25499   26499  54.116859\n",
       "2   chr1  26499   27499  54.113842\n",
       "3   chr1  27499   28499  54.109318\n",
       "4   chr1  28499   29499  54.103291\n",
       "..   ...    ...     ...        ...\n",
       "71  chr1  95499   96499  50.175915\n",
       "72  chr1  96499   97499  50.071140\n",
       "73  chr1  97499   98499  49.965553\n",
       "74  chr1  98499   99499  49.859196\n",
       "75  chr1  99499  100000  49.752087\n",
       "\n",
       "[76 rows x 4 columns]"
      ]
     },
     "execution_count": 7,
     "metadata": {},
     "output_type": "execute_result"
    }
   ],
   "source": [
    "rt_fd.fetch_intervals('chr1', 1, 100000)"
   ]
  },
  {
   "cell_type": "code",
   "execution_count": null,
   "metadata": {},
   "outputs": [],
   "source": []
  }
 ],
 "metadata": {
  "kernelspec": {
   "display_name": "RepDigDrive",
   "language": "python",
   "name": "repdigdrive"
  },
  "language_info": {
   "codemirror_mode": {
    "name": "ipython",
    "version": 3
   },
   "file_extension": ".py",
   "mimetype": "text/x-python",
   "name": "python",
   "nbconvert_exporter": "python",
   "pygments_lexer": "ipython3",
   "version": "3.10.14"
  }
 },
 "nbformat": 4,
 "nbformat_minor": 4
}
