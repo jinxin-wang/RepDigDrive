{
 "cells": [
  {
   "cell_type": "code",
   "execution_count": 2,
   "metadata": {},
   "outputs": [],
   "source": [
    "import h5py\n",
    "import pandas as pd\n",
    "import numpy as np"
   ]
  },
  {
   "cell_type": "code",
   "execution_count": 3,
   "metadata": {},
   "outputs": [],
   "source": [
    "# gnm_cnts_path = \"/mnt/beegfs/userdata/j_wang/Algorithm_Resources/dig/downloads/dig_data_files/genome_counts.h5\"\n",
    "gnm_cnts_path = \"D:\\data\\genome_counts.h5\""
   ]
  },
  {
   "cell_type": "code",
   "execution_count": 4,
   "metadata": {},
   "outputs": [
    {
     "name": "stdout",
     "output_type": "stream",
     "text": [
      "<HDF5 group \"/all_window_genome_counts\" (4 members)>\n",
      "<HDF5 group \"/genome_counts\" (2 members)>\n",
      "<HDF5 dataset \"idx\": shape (288091, 3), type \"<i4\">\n",
      "<HDF5 dataset \"mappability\": shape (288091,), type \"<f8\">\n"
     ]
    }
   ],
   "source": [
    "with h5py.File(gnm_cnts_path, \"r\") as fd:\n",
    "    for k in fd.keys():\n",
    "        print(fd[k])"
   ]
  },
  {
   "cell_type": "code",
   "execution_count": 4,
   "metadata": {},
   "outputs": [],
   "source": [
    "fd = h5py.File(gnm_cnts_path, \"r\")"
   ]
  },
  {
   "cell_type": "code",
   "execution_count": 5,
   "metadata": {},
   "outputs": [
    {
     "data": {
      "text/plain": [
       "<KeysViewHDF5 ['axis0', 'axis1', 'block0_items', 'block0_values']>"
      ]
     },
     "execution_count": 5,
     "metadata": {},
     "output_type": "execute_result"
    }
   ],
   "source": [
    "fd['all_window_genome_counts'].keys()"
   ]
  },
  {
   "cell_type": "code",
   "execution_count": 17,
   "metadata": {},
   "outputs": [
    {
     "data": {
      "text/plain": [
       "array([b'AAA', b'AAC', b'AAG', b'AAT', b'ACA', b'ACC', b'ACG', b'ACT',\n",
       "       b'AGA', b'AGC', b'AGG', b'AGT', b'ATA', b'ATC', b'ATG', b'ATT',\n",
       "       b'CAA', b'CAC', b'CAG', b'CAT', b'CCA', b'CCC', b'CCG', b'CCT',\n",
       "       b'CGA', b'CGC', b'CGG', b'CGT', b'CTA', b'CTC', b'CTG', b'CTT',\n",
       "       b'GAA', b'GAC', b'GAG', b'GAT', b'GCA', b'GCC', b'GCG', b'GCT',\n",
       "       b'GGA', b'GGC', b'GGG', b'GGT', b'GTA', b'GTC', b'GTG', b'GTT',\n",
       "       b'TAA', b'TAC', b'TAG', b'TAT', b'TCA', b'TCC', b'TCG', b'TCT',\n",
       "       b'TGA', b'TGC', b'TGG', b'TGT', b'TTA', b'TTC', b'TTG', b'TTT'],\n",
       "      dtype='|S3')"
      ]
     },
     "execution_count": 17,
     "metadata": {},
     "output_type": "execute_result"
    }
   ],
   "source": [
    "fd['all_window_genome_counts']['axis0'][:]"
   ]
  },
  {
   "cell_type": "code",
   "execution_count": 18,
   "metadata": {},
   "outputs": [
    {
     "data": {
      "text/plain": [
       "array([b'chr1:0-10000', b'chr1:10000-20000', b'chr1:20000-30000', ...,\n",
       "       b'chr22:51270000-51280000', b'chr22:51280000-51290000',\n",
       "       b'chr22:51290000-51300000'], dtype='|S25')"
      ]
     },
     "execution_count": 18,
     "metadata": {},
     "output_type": "execute_result"
    }
   ],
   "source": [
    "fd['all_window_genome_counts']['axis1'][:]"
   ]
  },
  {
   "cell_type": "code",
   "execution_count": 19,
   "metadata": {},
   "outputs": [
    {
     "data": {
      "text/plain": [
       "array([b'AAA', b'AAC', b'AAG', b'AAT', b'ACA', b'ACC', b'ACG', b'ACT',\n",
       "       b'AGA', b'AGC', b'AGG', b'AGT', b'ATA', b'ATC', b'ATG', b'ATT',\n",
       "       b'CAA', b'CAC', b'CAG', b'CAT', b'CCA', b'CCC', b'CCG', b'CCT',\n",
       "       b'CGA', b'CGC', b'CGG', b'CGT', b'CTA', b'CTC', b'CTG', b'CTT',\n",
       "       b'GAA', b'GAC', b'GAG', b'GAT', b'GCA', b'GCC', b'GCG', b'GCT',\n",
       "       b'GGA', b'GGC', b'GGG', b'GGT', b'GTA', b'GTC', b'GTG', b'GTT',\n",
       "       b'TAA', b'TAC', b'TAG', b'TAT', b'TCA', b'TCC', b'TCG', b'TCT',\n",
       "       b'TGA', b'TGC', b'TGG', b'TGT', b'TTA', b'TTC', b'TTG', b'TTT'],\n",
       "      dtype='|S3')"
      ]
     },
     "execution_count": 19,
     "metadata": {},
     "output_type": "execute_result"
    }
   ],
   "source": [
    "fd['all_window_genome_counts']['block0_items'][:]"
   ]
  },
  {
   "cell_type": "code",
   "execution_count": 22,
   "metadata": {},
   "outputs": [
    {
     "data": {
      "text/plain": [
       "<HDF5 dataset \"block0_values\": shape (288091, 64), type \"<i8\">"
      ]
     },
     "execution_count": 22,
     "metadata": {},
     "output_type": "execute_result"
    }
   ],
   "source": [
    "fd['all_window_genome_counts']['block0_values']"
   ]
  },
  {
   "cell_type": "code",
   "execution_count": 23,
   "metadata": {},
   "outputs": [
    {
     "data": {
      "text/plain": [
       "array([[  0,   0,   0, ...,   0,   0,   0],\n",
       "       [104, 150, 152, ..., 117, 124,  95],\n",
       "       [235, 127, 186, ..., 165, 120, 202],\n",
       "       ...,\n",
       "       [  0,   0,   0, ...,   0,   0,   0],\n",
       "       [  0,   0,   0, ...,   0,   0,   0],\n",
       "       [  0,   0,   0, ...,   0,   0,   0]], dtype=int64)"
      ]
     },
     "execution_count": 23,
     "metadata": {},
     "output_type": "execute_result"
    }
   ],
   "source": [
    "fd['all_window_genome_counts']['block0_values'][:]"
   ]
  },
  {
   "cell_type": "code",
   "execution_count": 7,
   "metadata": {},
   "outputs": [
    {
     "data": {
      "text/plain": [
       "<KeysViewHDF5 ['index', 'values']>"
      ]
     },
     "execution_count": 7,
     "metadata": {},
     "output_type": "execute_result"
    }
   ],
   "source": [
    "fd['genome_counts'].keys()"
   ]
  },
  {
   "cell_type": "code",
   "execution_count": 13,
   "metadata": {},
   "outputs": [
    {
     "data": {
      "text/plain": [
       "array([102756867,  38968630,  53472745,  66644197,  53929168,  31245084,\n",
       "         6784231,  43147628,  59278134,  37688084,  47839059,  43193345,\n",
       "        54984912,  35743922,  49137747,  66731099,  50588852,  40407193,\n",
       "        54611018,  49148814,  49558494,  35511012,   7514715,  47895757,\n",
       "         5956046,   6481476,   7513417,   6801733,  34503547,  45389734,\n",
       "        54653897,  53563412,  52790167,  25378340,  45373956,  35774914,\n",
       "        38730044,  32205620,   6486059,  37696534,  41535378,  32186850,\n",
       "        35532041,  31271068,  30362695,  25416575,  40493555,  39104026,\n",
       "        55706539,  30351944,  34540906,  55029755,  52538174,  41518263,\n",
       "         5967666,  59370668,  52547664,  38761846,  49640832,  54110707,\n",
       "        55777982,  52844680,  50775852, 103101929], dtype=int64)"
      ]
     },
     "execution_count": 13,
     "metadata": {},
     "output_type": "execute_result"
    }
   ],
   "source": [
    "fd['genome_counts']['values'][:]"
   ]
  },
  {
   "cell_type": "code",
   "execution_count": 14,
   "metadata": {},
   "outputs": [
    {
     "data": {
      "text/plain": [
       "array([b'AAA', b'AAC', b'AAG', b'AAT', b'ACA', b'ACC', b'ACG', b'ACT',\n",
       "       b'AGA', b'AGC', b'AGG', b'AGT', b'ATA', b'ATC', b'ATG', b'ATT',\n",
       "       b'CAA', b'CAC', b'CAG', b'CAT', b'CCA', b'CCC', b'CCG', b'CCT',\n",
       "       b'CGA', b'CGC', b'CGG', b'CGT', b'CTA', b'CTC', b'CTG', b'CTT',\n",
       "       b'GAA', b'GAC', b'GAG', b'GAT', b'GCA', b'GCC', b'GCG', b'GCT',\n",
       "       b'GGA', b'GGC', b'GGG', b'GGT', b'GTA', b'GTC', b'GTG', b'GTT',\n",
       "       b'TAA', b'TAC', b'TAG', b'TAT', b'TCA', b'TCC', b'TCG', b'TCT',\n",
       "       b'TGA', b'TGC', b'TGG', b'TGT', b'TTA', b'TTC', b'TTG', b'TTT'],\n",
       "      dtype='|S3')"
      ]
     },
     "execution_count": 14,
     "metadata": {},
     "output_type": "execute_result"
    }
   ],
   "source": [
    "fd['genome_counts']['index'][:]"
   ]
  },
  {
   "cell_type": "code",
   "execution_count": 8,
   "metadata": {},
   "outputs": [
    {
     "data": {
      "text/plain": [
       "array([    1,     0, 10000])"
      ]
     },
     "execution_count": 8,
     "metadata": {},
     "output_type": "execute_result"
    }
   ],
   "source": [
    "fd['idx'][0]"
   ]
  },
  {
   "cell_type": "code",
   "execution_count": 4,
   "metadata": {},
   "outputs": [
    {
     "data": {
      "text/plain": [
       "<HDF5 dataset \"mappability\": shape (288091,), type \"<f8\">"
      ]
     },
     "execution_count": 4,
     "metadata": {},
     "output_type": "execute_result"
    }
   ],
   "source": [
    "fd['mappability']"
   ]
  },
  {
   "cell_type": "code",
   "execution_count": 9,
   "metadata": {},
   "outputs": [
    {
     "data": {
      "text/plain": [
       "array([0.        , 0.13808968, 0.16584463, ..., 0.        , 0.        ,\n",
       "       0.        ])"
      ]
     },
     "execution_count": 9,
     "metadata": {},
     "output_type": "execute_result"
    }
   ],
   "source": [
    "np.array(fd['mappability'][:])"
   ]
  },
  {
   "cell_type": "code",
   "execution_count": 11,
   "metadata": {},
   "outputs": [
    {
     "data": {
      "text/plain": [
       "<HDF5 dataset \"axis0\": shape (64,), type \"|S3\">"
      ]
     },
     "execution_count": 11,
     "metadata": {},
     "output_type": "execute_result"
    }
   ],
   "source": [
    "fd['all_window_genome_counts']['axis0']"
   ]
  },
  {
   "cell_type": "code",
   "execution_count": 12,
   "metadata": {},
   "outputs": [
    {
     "data": {
      "text/plain": [
       "<HDF5 dataset \"axis1\": shape (288091,), type \"|S25\">"
      ]
     },
     "execution_count": 12,
     "metadata": {},
     "output_type": "execute_result"
    }
   ],
   "source": [
    "fd['all_window_genome_counts']['axis1']"
   ]
  },
  {
   "cell_type": "code",
   "execution_count": 13,
   "metadata": {},
   "outputs": [
    {
     "data": {
      "text/plain": [
       "<HDF5 dataset \"block0_items\": shape (64,), type \"|S3\">"
      ]
     },
     "execution_count": 13,
     "metadata": {},
     "output_type": "execute_result"
    }
   ],
   "source": [
    "fd['all_window_genome_counts']['block0_items']"
   ]
  },
  {
   "cell_type": "code",
   "execution_count": 14,
   "metadata": {},
   "outputs": [
    {
     "data": {
      "text/plain": [
       "<HDF5 dataset \"block0_values\": shape (288091, 64), type \"<i8\">"
      ]
     },
     "execution_count": 14,
     "metadata": {},
     "output_type": "execute_result"
    }
   ],
   "source": [
    "fd['all_window_genome_counts']['block0_values']"
   ]
  },
  {
   "cell_type": "code",
   "execution_count": 15,
   "metadata": {},
   "outputs": [
    {
     "data": {
      "text/plain": [
       "<HDF5 dataset \"index\": shape (64,), type \"|S3\">"
      ]
     },
     "execution_count": 15,
     "metadata": {},
     "output_type": "execute_result"
    }
   ],
   "source": [
    "fd['genome_counts']['index']"
   ]
  },
  {
   "cell_type": "code",
   "execution_count": 16,
   "metadata": {},
   "outputs": [
    {
     "data": {
      "text/plain": [
       "<HDF5 dataset \"values\": shape (64,), type \"<i8\">"
      ]
     },
     "execution_count": 16,
     "metadata": {},
     "output_type": "execute_result"
    }
   ],
   "source": [
    "fd['genome_counts']['values']"
   ]
  },
  {
   "cell_type": "code",
   "execution_count": 17,
   "metadata": {},
   "outputs": [
    {
     "data": {
      "text/plain": [
       "array([b'AAA', b'AAC', b'AAG', b'AAT', b'ACA', b'ACC', b'ACG', b'ACT',\n",
       "       b'AGA', b'AGC', b'AGG', b'AGT', b'ATA', b'ATC', b'ATG', b'ATT',\n",
       "       b'CAA', b'CAC', b'CAG', b'CAT', b'CCA', b'CCC', b'CCG', b'CCT',\n",
       "       b'CGA', b'CGC', b'CGG', b'CGT', b'CTA', b'CTC', b'CTG', b'CTT',\n",
       "       b'GAA', b'GAC', b'GAG', b'GAT', b'GCA', b'GCC', b'GCG', b'GCT',\n",
       "       b'GGA', b'GGC', b'GGG', b'GGT', b'GTA', b'GTC', b'GTG', b'GTT',\n",
       "       b'TAA', b'TAC', b'TAG', b'TAT', b'TCA', b'TCC', b'TCG', b'TCT',\n",
       "       b'TGA', b'TGC', b'TGG', b'TGT', b'TTA', b'TTC', b'TTG', b'TTT'],\n",
       "      dtype='|S3')"
      ]
     },
     "execution_count": 17,
     "metadata": {},
     "output_type": "execute_result"
    }
   ],
   "source": [
    "fd['genome_counts']['index'][:]"
   ]
  },
  {
   "cell_type": "code",
   "execution_count": 18,
   "metadata": {},
   "outputs": [
    {
     "data": {
      "text/plain": [
       "array([102756867,  38968630,  53472745,  66644197,  53929168,  31245084,\n",
       "         6784231,  43147628,  59278134,  37688084,  47839059,  43193345,\n",
       "        54984912,  35743922,  49137747,  66731099,  50588852,  40407193,\n",
       "        54611018,  49148814,  49558494,  35511012,   7514715,  47895757,\n",
       "         5956046,   6481476,   7513417,   6801733,  34503547,  45389734,\n",
       "        54653897,  53563412,  52790167,  25378340,  45373956,  35774914,\n",
       "        38730044,  32205620,   6486059,  37696534,  41535378,  32186850,\n",
       "        35532041,  31271068,  30362695,  25416575,  40493555,  39104026,\n",
       "        55706539,  30351944,  34540906,  55029755,  52538174,  41518263,\n",
       "         5967666,  59370668,  52547664,  38761846,  49640832,  54110707,\n",
       "        55777982,  52844680,  50775852, 103101929], dtype=int64)"
      ]
     },
     "execution_count": 18,
     "metadata": {},
     "output_type": "execute_result"
    }
   ],
   "source": [
    "fd['genome_counts']['values'][:]"
   ]
  },
  {
   "cell_type": "code",
   "execution_count": 19,
   "metadata": {},
   "outputs": [
    {
     "data": {
      "text/plain": [
       "<KeysViewHDF5 ['collapse', 'n_down', 'n_up']>"
      ]
     },
     "execution_count": 19,
     "metadata": {},
     "output_type": "execute_result"
    }
   ],
   "source": [
    "fd.attrs.keys()"
   ]
  },
  {
   "cell_type": "code",
   "execution_count": 20,
   "metadata": {},
   "outputs": [
    {
     "data": {
      "text/plain": [
       "<KeysViewHDF5 ['CLASS', 'TITLE', 'VERSION', 'axis0_variety', 'axis1_variety', 'block0_items_variety', 'encoding', 'errors', 'nblocks', 'ndim', 'pandas_type', 'pandas_version']>"
      ]
     },
     "execution_count": 20,
     "metadata": {},
     "output_type": "execute_result"
    }
   ],
   "source": [
    "fd['all_window_genome_counts'].attrs.keys()"
   ]
  },
  {
   "cell_type": "code",
   "execution_count": 21,
   "metadata": {},
   "outputs": [
    {
     "data": {
      "text/plain": [
       "<KeysViewHDF5 ['CLASS', 'TITLE', 'VERSION', 'encoding', 'errors', 'index_variety', 'name', 'pandas_type', 'pandas_version']>"
      ]
     },
     "execution_count": 21,
     "metadata": {},
     "output_type": "execute_result"
    }
   ],
   "source": [
    "fd['genome_counts'].attrs.keys()"
   ]
  },
  {
   "cell_type": "code",
   "execution_count": 22,
   "metadata": {},
   "outputs": [
    {
     "data": {
      "text/plain": [
       "array([[       1,        0,    10000],\n",
       "       [       1,    10000,    20000],\n",
       "       [       1,    20000,    30000],\n",
       "       ...,\n",
       "       [      22, 51270000, 51280000],\n",
       "       [      22, 51280000, 51290000],\n",
       "       [      22, 51290000, 51300000]])"
      ]
     },
     "execution_count": 22,
     "metadata": {},
     "output_type": "execute_result"
    }
   ],
   "source": [
    "fd['idx'][:]"
   ]
  },
  {
   "cell_type": "code",
   "execution_count": 26,
   "metadata": {},
   "outputs": [],
   "source": [
    "from scipy import stats\n",
    "import random"
   ]
  },
  {
   "cell_type": "code",
   "execution_count": 39,
   "metadata": {},
   "outputs": [
    {
     "data": {
      "text/plain": [
       "array([1, 5, 9, 8, 0, 2, 0, 6, 4, 5, 1, 6, 3, 1, 6, 3, 7, 6, 1, 9])"
      ]
     },
     "execution_count": 39,
     "metadata": {},
     "output_type": "execute_result"
    }
   ],
   "source": [
    "rl = np.random.randint(10, size=20)\n",
    "rl"
   ]
  },
  {
   "cell_type": "code",
   "execution_count": 43,
   "metadata": {},
   "outputs": [
    {
     "data": {
      "text/plain": [
       "array([ 4.5, 11.5, 19.5, 18. ,  1.5,  7. ,  1.5, 14.5, 10. , 11.5,  4.5,\n",
       "       14.5,  8.5,  4.5, 14.5,  8.5, 17. , 14.5,  4.5, 19.5])"
      ]
     },
     "execution_count": 43,
     "metadata": {},
     "output_type": "execute_result"
    }
   ],
   "source": [
    "stats.mstats.rankdata(rl)"
   ]
  },
  {
   "cell_type": "code",
   "execution_count": 42,
   "metadata": {},
   "outputs": [
    {
     "data": {
      "text/plain": [
       "array([0.225, 0.575, 0.975, 0.9  , 0.075, 0.35 , 0.075, 0.725, 0.5  ,\n",
       "       0.575, 0.225, 0.725, 0.425, 0.225, 0.725, 0.425, 0.85 , 0.725,\n",
       "       0.225, 0.975])"
      ]
     },
     "execution_count": 42,
     "metadata": {},
     "output_type": "execute_result"
    }
   ],
   "source": [
    "stats.mstats.rankdata(rl)/len(rl)"
   ]
  },
  {
   "cell_type": "code",
   "execution_count": 45,
   "metadata": {},
   "outputs": [],
   "source": [
    "import tensorboardX"
   ]
  },
  {
   "cell_type": "code",
   "execution_count": null,
   "metadata": {},
   "outputs": [],
   "source": []
  }
 ],
 "metadata": {
  "kernelspec": {
   "display_name": "Python 3",
   "language": "python",
   "name": "python3"
  },
  "language_info": {
   "codemirror_mode": {
    "name": "ipython",
    "version": 3
   },
   "file_extension": ".py",
   "mimetype": "text/x-python",
   "name": "python",
   "nbconvert_exporter": "python",
   "pygments_lexer": "ipython3",
   "version": "3.10.0"
  }
 },
 "nbformat": 4,
 "nbformat_minor": 4
}
