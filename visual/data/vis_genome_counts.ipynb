{
 "cells": [
  {
   "cell_type": "code",
   "execution_count": 2,
   "metadata": {},
   "outputs": [],
   "source": [
    "import h5py"
   ]
  },
  {
   "cell_type": "code",
   "execution_count": 3,
   "metadata": {},
   "outputs": [],
   "source": [
    "gnm_cnts_path = \"/mnt/beegfs/userdata/j_wang/Algorithm_Resources/dig/downloads/dig_data_files/genome_counts.h5\""
   ]
  },
  {
   "cell_type": "code",
   "execution_count": 4,
   "metadata": {},
   "outputs": [
    {
     "name": "stdout",
     "output_type": "stream",
     "text": [
      "<HDF5 group \"/all_window_genome_counts\" (4 members)>\n",
      "<HDF5 group \"/genome_counts\" (2 members)>\n",
      "<HDF5 dataset \"idx\": shape (288091, 3), type \"<i4\">\n",
      "<HDF5 dataset \"mappability\": shape (288091,), type \"<f8\">\n"
     ]
    }
   ],
   "source": [
    "with h5py.File(gnm_cnts_path, \"r\") as fd:\n",
    "    for k in fd.keys():\n",
    "        print(fd[k])"
   ]
  },
  {
   "cell_type": "code",
   "execution_count": 5,
   "metadata": {},
   "outputs": [],
   "source": [
    "fd = h5py.File(gnm_cnts_path, \"r\")"
   ]
  },
  {
   "cell_type": "code",
   "execution_count": 6,
   "metadata": {},
   "outputs": [
    {
     "data": {
      "text/plain": [
       "<KeysViewHDF5 ['axis0', 'axis1', 'block0_items', 'block0_values']>"
      ]
     },
     "execution_count": 6,
     "metadata": {},
     "output_type": "execute_result"
    }
   ],
   "source": [
    "fd['all_window_genome_counts'].keys()"
   ]
  },
  {
   "cell_type": "code",
   "execution_count": 7,
   "metadata": {},
   "outputs": [
    {
     "data": {
      "text/plain": [
       "<KeysViewHDF5 ['index', 'values']>"
      ]
     },
     "execution_count": 7,
     "metadata": {},
     "output_type": "execute_result"
    }
   ],
   "source": [
    "fd['genome_counts'].keys()"
   ]
  },
  {
   "cell_type": "code",
   "execution_count": 10,
   "metadata": {},
   "outputs": [
    {
     "data": {
      "text/plain": [
       "array([    1,     0, 10000], dtype=int32)"
      ]
     },
     "execution_count": 10,
     "metadata": {},
     "output_type": "execute_result"
    }
   ],
   "source": [
    "fd['idx'][0]"
   ]
  },
  {
   "cell_type": "code",
   "execution_count": 12,
   "metadata": {},
   "outputs": [
    {
     "data": {
      "text/plain": [
       "<HDF5 dataset \"mappability\": shape (288091,), type \"<f8\">"
      ]
     },
     "execution_count": 12,
     "metadata": {},
     "output_type": "execute_result"
    }
   ],
   "source": [
    "fd['mappability']"
   ]
  },
  {
   "cell_type": "code",
   "execution_count": 13,
   "metadata": {},
   "outputs": [
    {
     "data": {
      "text/plain": [
       "<HDF5 dataset \"axis0\": shape (64,), type \"|S3\">"
      ]
     },
     "execution_count": 13,
     "metadata": {},
     "output_type": "execute_result"
    }
   ],
   "source": [
    "fd['all_window_genome_counts']['axis0']"
   ]
  },
  {
   "cell_type": "code",
   "execution_count": 14,
   "metadata": {},
   "outputs": [
    {
     "data": {
      "text/plain": [
       "<HDF5 dataset \"axis1\": shape (288091,), type \"|S25\">"
      ]
     },
     "execution_count": 14,
     "metadata": {},
     "output_type": "execute_result"
    }
   ],
   "source": [
    "fd['all_window_genome_counts']['axis1']"
   ]
  },
  {
   "cell_type": "code",
   "execution_count": 15,
   "metadata": {},
   "outputs": [
    {
     "data": {
      "text/plain": [
       "<HDF5 dataset \"block0_items\": shape (64,), type \"|S3\">"
      ]
     },
     "execution_count": 15,
     "metadata": {},
     "output_type": "execute_result"
    }
   ],
   "source": [
    "fd['all_window_genome_counts']['block0_items']"
   ]
  },
  {
   "cell_type": "code",
   "execution_count": 16,
   "metadata": {},
   "outputs": [
    {
     "data": {
      "text/plain": [
       "<HDF5 dataset \"block0_values\": shape (288091, 64), type \"<i8\">"
      ]
     },
     "execution_count": 16,
     "metadata": {},
     "output_type": "execute_result"
    }
   ],
   "source": [
    "fd['all_window_genome_counts']['block0_values']"
   ]
  },
  {
   "cell_type": "code",
   "execution_count": 17,
   "metadata": {},
   "outputs": [
    {
     "data": {
      "text/plain": [
       "<HDF5 dataset \"index\": shape (64,), type \"|S3\">"
      ]
     },
     "execution_count": 17,
     "metadata": {},
     "output_type": "execute_result"
    }
   ],
   "source": [
    "fd['genome_counts']['index']"
   ]
  },
  {
   "cell_type": "code",
   "execution_count": 18,
   "metadata": {},
   "outputs": [
    {
     "data": {
      "text/plain": [
       "<HDF5 dataset \"values\": shape (64,), type \"<i8\">"
      ]
     },
     "execution_count": 18,
     "metadata": {},
     "output_type": "execute_result"
    }
   ],
   "source": [
    "fd['genome_counts']['values']"
   ]
  },
  {
   "cell_type": "code",
   "execution_count": 19,
   "metadata": {},
   "outputs": [
    {
     "data": {
      "text/plain": [
       "array([b'AAA', b'AAC', b'AAG', b'AAT', b'ACA', b'ACC', b'ACG', b'ACT',\n",
       "       b'AGA', b'AGC', b'AGG', b'AGT', b'ATA', b'ATC', b'ATG', b'ATT',\n",
       "       b'CAA', b'CAC', b'CAG', b'CAT', b'CCA', b'CCC', b'CCG', b'CCT',\n",
       "       b'CGA', b'CGC', b'CGG', b'CGT', b'CTA', b'CTC', b'CTG', b'CTT',\n",
       "       b'GAA', b'GAC', b'GAG', b'GAT', b'GCA', b'GCC', b'GCG', b'GCT',\n",
       "       b'GGA', b'GGC', b'GGG', b'GGT', b'GTA', b'GTC', b'GTG', b'GTT',\n",
       "       b'TAA', b'TAC', b'TAG', b'TAT', b'TCA', b'TCC', b'TCG', b'TCT',\n",
       "       b'TGA', b'TGC', b'TGG', b'TGT', b'TTA', b'TTC', b'TTG', b'TTT'],\n",
       "      dtype='|S3')"
      ]
     },
     "execution_count": 19,
     "metadata": {},
     "output_type": "execute_result"
    }
   ],
   "source": [
    "fd['genome_counts']['index'][:]"
   ]
  },
  {
   "cell_type": "code",
   "execution_count": 20,
   "metadata": {},
   "outputs": [
    {
     "data": {
      "text/plain": [
       "array([102756867,  38968630,  53472745,  66644197,  53929168,  31245084,\n",
       "         6784231,  43147628,  59278134,  37688084,  47839059,  43193345,\n",
       "        54984912,  35743922,  49137747,  66731099,  50588852,  40407193,\n",
       "        54611018,  49148814,  49558494,  35511012,   7514715,  47895757,\n",
       "         5956046,   6481476,   7513417,   6801733,  34503547,  45389734,\n",
       "        54653897,  53563412,  52790167,  25378340,  45373956,  35774914,\n",
       "        38730044,  32205620,   6486059,  37696534,  41535378,  32186850,\n",
       "        35532041,  31271068,  30362695,  25416575,  40493555,  39104026,\n",
       "        55706539,  30351944,  34540906,  55029755,  52538174,  41518263,\n",
       "         5967666,  59370668,  52547664,  38761846,  49640832,  54110707,\n",
       "        55777982,  52844680,  50775852, 103101929])"
      ]
     },
     "execution_count": 20,
     "metadata": {},
     "output_type": "execute_result"
    }
   ],
   "source": [
    "fd['genome_counts']['values'][:]"
   ]
  },
  {
   "cell_type": "code",
   "execution_count": null,
   "metadata": {},
   "outputs": [],
   "source": []
  }
 ],
 "metadata": {
  "kernelspec": {
   "display_name": "ml",
   "language": "python",
   "name": "ml"
  },
  "language_info": {
   "codemirror_mode": {
    "name": "ipython",
    "version": 3
   },
   "file_extension": ".py",
   "mimetype": "text/x-python",
   "name": "python",
   "nbconvert_exporter": "python",
   "pygments_lexer": "ipython3",
   "version": "3.12.2"
  }
 },
 "nbformat": 4,
 "nbformat_minor": 4
}
