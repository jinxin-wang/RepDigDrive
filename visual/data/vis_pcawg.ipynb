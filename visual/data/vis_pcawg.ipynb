{
 "cells": [
  {
   "cell_type": "code",
   "execution_count": 1,
   "metadata": {},
   "outputs": [],
   "source": [
    "adenocarcinoma_path = \"/mnt/beegfs/userdata/j_wang/Algorithm_Resources/dig/downloads/mutation_files/PCAWG/ICGC_only/Adenocarcinoma_tumors_SNV_MNV_INDEL.ICGC.annot.txt.gz\""
   ]
  },
  {
   "cell_type": "code",
   "execution_count": 3,
   "metadata": {},
   "outputs": [],
   "source": [
    "import pandas as pd"
   ]
  },
  {
   "cell_type": "code",
   "execution_count": 4,
   "metadata": {},
   "outputs": [],
   "source": [
    "adenocarcinoma_df = pd.read_table(adenocarcinoma_path, sep='\\t', header=None)"
   ]
  },
  {
   "cell_type": "code",
   "execution_count": 5,
   "metadata": {},
   "outputs": [
    {
     "data": {
      "text/html": [
       "<div>\n",
       "<style scoped>\n",
       "    .dataframe tbody tr th:only-of-type {\n",
       "        vertical-align: middle;\n",
       "    }\n",
       "\n",
       "    .dataframe tbody tr th {\n",
       "        vertical-align: top;\n",
       "    }\n",
       "\n",
       "    .dataframe thead th {\n",
       "        text-align: right;\n",
       "    }\n",
       "</style>\n",
       "<table border=\"1\" class=\"dataframe\">\n",
       "  <thead>\n",
       "    <tr style=\"text-align: right;\">\n",
       "      <th></th>\n",
       "      <th>0</th>\n",
       "      <th>1</th>\n",
       "      <th>2</th>\n",
       "      <th>3</th>\n",
       "      <th>4</th>\n",
       "      <th>5</th>\n",
       "      <th>6</th>\n",
       "      <th>7</th>\n",
       "      <th>8</th>\n",
       "      <th>9</th>\n",
       "    </tr>\n",
       "  </thead>\n",
       "  <tbody>\n",
       "    <tr>\n",
       "      <th>0</th>\n",
       "      <td>1</td>\n",
       "      <td>10506</td>\n",
       "      <td>10507</td>\n",
       "      <td>C</td>\n",
       "      <td>A</td>\n",
       "      <td>ee5d5e7d-78cf-4a29-a9ee-56aa3da877dd</td>\n",
       "      <td>.</td>\n",
       "      <td>Noncoding</td>\n",
       "      <td>C&gt;A</td>\n",
       "      <td>CCT</td>\n",
       "    </tr>\n",
       "    <tr>\n",
       "      <th>1</th>\n",
       "      <td>1</td>\n",
       "      <td>10508</td>\n",
       "      <td>10509</td>\n",
       "      <td>G</td>\n",
       "      <td>C</td>\n",
       "      <td>097a7d36-905b-72be-e050-11ac0d482c9a</td>\n",
       "      <td>.</td>\n",
       "      <td>Noncoding</td>\n",
       "      <td>G&gt;C</td>\n",
       "      <td>TGA</td>\n",
       "    </tr>\n",
       "    <tr>\n",
       "      <th>2</th>\n",
       "      <td>1</td>\n",
       "      <td>10513</td>\n",
       "      <td>10514</td>\n",
       "      <td>G</td>\n",
       "      <td>A</td>\n",
       "      <td>aa4a868a-df23-4eef-a618-e945aa2ce98a</td>\n",
       "      <td>.</td>\n",
       "      <td>Noncoding</td>\n",
       "      <td>G&gt;A</td>\n",
       "      <td>AGA</td>\n",
       "    </tr>\n",
       "    <tr>\n",
       "      <th>3</th>\n",
       "      <td>1</td>\n",
       "      <td>10527</td>\n",
       "      <td>10528</td>\n",
       "      <td>C</td>\n",
       "      <td>G</td>\n",
       "      <td>efc39172-083c-4297-b922-3f58df781332</td>\n",
       "      <td>.</td>\n",
       "      <td>Noncoding</td>\n",
       "      <td>C&gt;G</td>\n",
       "      <td>CCT</td>\n",
       "    </tr>\n",
       "    <tr>\n",
       "      <th>4</th>\n",
       "      <td>1</td>\n",
       "      <td>10595</td>\n",
       "      <td>10596</td>\n",
       "      <td>G</td>\n",
       "      <td>C</td>\n",
       "      <td>dcc938da-3e45-4c2f-ae0f-47817be04518</td>\n",
       "      <td>.</td>\n",
       "      <td>Noncoding</td>\n",
       "      <td>G&gt;C</td>\n",
       "      <td>TGT</td>\n",
       "    </tr>\n",
       "  </tbody>\n",
       "</table>\n",
       "</div>"
      ],
      "text/plain": [
       "   0      1      2  3  4                                     5  6          7  \\\n",
       "0  1  10506  10507  C  A  ee5d5e7d-78cf-4a29-a9ee-56aa3da877dd  .  Noncoding   \n",
       "1  1  10508  10509  G  C  097a7d36-905b-72be-e050-11ac0d482c9a  .  Noncoding   \n",
       "2  1  10513  10514  G  A  aa4a868a-df23-4eef-a618-e945aa2ce98a  .  Noncoding   \n",
       "3  1  10527  10528  C  G  efc39172-083c-4297-b922-3f58df781332  .  Noncoding   \n",
       "4  1  10595  10596  G  C  dcc938da-3e45-4c2f-ae0f-47817be04518  .  Noncoding   \n",
       "\n",
       "     8    9  \n",
       "0  C>A  CCT  \n",
       "1  G>C  TGA  \n",
       "2  G>A  AGA  \n",
       "3  C>G  CCT  \n",
       "4  G>C  TGT  "
      ]
     },
     "execution_count": 5,
     "metadata": {},
     "output_type": "execute_result"
    }
   ],
   "source": [
    "adenocarcinoma_df.head()"
   ]
  },
  {
   "cell_type": "code",
   "execution_count": 7,
   "metadata": {},
   "outputs": [
    {
     "data": {
      "text/plain": [
       "{'Essential_Splice',\n",
       " 'INDEL',\n",
       " 'Missense',\n",
       " 'Noncoding',\n",
       " 'Nonsense',\n",
       " 'Stop_loss',\n",
       " 'Synonymous'}"
      ]
     },
     "execution_count": 7,
     "metadata": {},
     "output_type": "execute_result"
    }
   ],
   "source": [
    "set(adenocarcinoma_df[7])"
   ]
  },
  {
   "cell_type": "code",
   "execution_count": 9,
   "metadata": {},
   "outputs": [],
   "source": [
    "import h5py"
   ]
  },
  {
   "cell_type": "code",
   "execution_count": null,
   "metadata": {},
   "outputs": [],
   "source": [
    "gene_data\"/mnt/beegfs/userdata/j_wang/Algorithm_Resources/dig/downloads/dig_data_files/gene_data.h5\""
   ]
  }
 ],
 "metadata": {
  "kernelspec": {
   "display_name": "ml",
   "language": "python",
   "name": "ml"
  },
  "language_info": {
   "codemirror_mode": {
    "name": "ipython",
    "version": 3
   },
   "file_extension": ".py",
   "mimetype": "text/x-python",
   "name": "python",
   "nbconvert_exporter": "python",
   "pygments_lexer": "ipython3",
   "version": "3.12.2"
  }
 },
 "nbformat": 4,
 "nbformat_minor": 4
}
