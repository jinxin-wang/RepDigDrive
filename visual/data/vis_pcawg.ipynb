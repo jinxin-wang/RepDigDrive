{
 "cells": [
  {
   "cell_type": "code",
   "execution_count": 1,
   "metadata": {},
   "outputs": [],
   "source": [
    "import pandas as pd"
   ]
  },
  {
   "cell_type": "code",
   "execution_count": 2,
   "metadata": {},
   "outputs": [],
   "source": [
    "adenocarcinoma_path = \"/mnt/beegfs/userdata/j_wang/Algorithm_Resources/dig/downloads/mutation_files/PCAWG/ICGC_only/Adenocarcinoma_tumors_SNV_MNV_INDEL.ICGC.annot.txt.gz\""
   ]
  },
  {
   "cell_type": "code",
   "execution_count": 3,
   "metadata": {},
   "outputs": [],
   "source": [
    "adenocarcinoma_df = pd.read_table(adenocarcinoma_path, sep='\\t', names=['CHROM', 'START', 'END', 'REF', 'ALT', 'SAMPLE', 'GENE', 'ANNOT', 'MUT', 'CONTEXT'])"
   ]
  },
  {
   "cell_type": "code",
   "execution_count": 4,
   "metadata": {},
   "outputs": [
    {
     "data": {
      "text/html": [
       "<div>\n",
       "<style scoped>\n",
       "    .dataframe tbody tr th:only-of-type {\n",
       "        vertical-align: middle;\n",
       "    }\n",
       "\n",
       "    .dataframe tbody tr th {\n",
       "        vertical-align: top;\n",
       "    }\n",
       "\n",
       "    .dataframe thead th {\n",
       "        text-align: right;\n",
       "    }\n",
       "</style>\n",
       "<table border=\"1\" class=\"dataframe\">\n",
       "  <thead>\n",
       "    <tr style=\"text-align: right;\">\n",
       "      <th></th>\n",
       "      <th>CHROM</th>\n",
       "      <th>START</th>\n",
       "      <th>END</th>\n",
       "      <th>REF</th>\n",
       "      <th>ALT</th>\n",
       "      <th>SAMPLE</th>\n",
       "      <th>GENE</th>\n",
       "      <th>ANNOT</th>\n",
       "      <th>MUT</th>\n",
       "      <th>CONTEXT</th>\n",
       "    </tr>\n",
       "  </thead>\n",
       "  <tbody>\n",
       "    <tr>\n",
       "      <th>0</th>\n",
       "      <td>1</td>\n",
       "      <td>10506</td>\n",
       "      <td>10507</td>\n",
       "      <td>C</td>\n",
       "      <td>A</td>\n",
       "      <td>ee5d5e7d-78cf-4a29-a9ee-56aa3da877dd</td>\n",
       "      <td>.</td>\n",
       "      <td>Noncoding</td>\n",
       "      <td>C&gt;A</td>\n",
       "      <td>CCT</td>\n",
       "    </tr>\n",
       "    <tr>\n",
       "      <th>1</th>\n",
       "      <td>1</td>\n",
       "      <td>10508</td>\n",
       "      <td>10509</td>\n",
       "      <td>G</td>\n",
       "      <td>C</td>\n",
       "      <td>097a7d36-905b-72be-e050-11ac0d482c9a</td>\n",
       "      <td>.</td>\n",
       "      <td>Noncoding</td>\n",
       "      <td>G&gt;C</td>\n",
       "      <td>TGA</td>\n",
       "    </tr>\n",
       "    <tr>\n",
       "      <th>2</th>\n",
       "      <td>1</td>\n",
       "      <td>10513</td>\n",
       "      <td>10514</td>\n",
       "      <td>G</td>\n",
       "      <td>A</td>\n",
       "      <td>aa4a868a-df23-4eef-a618-e945aa2ce98a</td>\n",
       "      <td>.</td>\n",
       "      <td>Noncoding</td>\n",
       "      <td>G&gt;A</td>\n",
       "      <td>AGA</td>\n",
       "    </tr>\n",
       "    <tr>\n",
       "      <th>3</th>\n",
       "      <td>1</td>\n",
       "      <td>10527</td>\n",
       "      <td>10528</td>\n",
       "      <td>C</td>\n",
       "      <td>G</td>\n",
       "      <td>efc39172-083c-4297-b922-3f58df781332</td>\n",
       "      <td>.</td>\n",
       "      <td>Noncoding</td>\n",
       "      <td>C&gt;G</td>\n",
       "      <td>CCT</td>\n",
       "    </tr>\n",
       "    <tr>\n",
       "      <th>4</th>\n",
       "      <td>1</td>\n",
       "      <td>10595</td>\n",
       "      <td>10596</td>\n",
       "      <td>G</td>\n",
       "      <td>C</td>\n",
       "      <td>dcc938da-3e45-4c2f-ae0f-47817be04518</td>\n",
       "      <td>.</td>\n",
       "      <td>Noncoding</td>\n",
       "      <td>G&gt;C</td>\n",
       "      <td>TGT</td>\n",
       "    </tr>\n",
       "  </tbody>\n",
       "</table>\n",
       "</div>"
      ],
      "text/plain": [
       "   CHROM  START    END REF ALT                                SAMPLE GENE  \\\n",
       "0      1  10506  10507   C   A  ee5d5e7d-78cf-4a29-a9ee-56aa3da877dd    .   \n",
       "1      1  10508  10509   G   C  097a7d36-905b-72be-e050-11ac0d482c9a    .   \n",
       "2      1  10513  10514   G   A  aa4a868a-df23-4eef-a618-e945aa2ce98a    .   \n",
       "3      1  10527  10528   C   G  efc39172-083c-4297-b922-3f58df781332    .   \n",
       "4      1  10595  10596   G   C  dcc938da-3e45-4c2f-ae0f-47817be04518    .   \n",
       "\n",
       "       ANNOT  MUT CONTEXT  \n",
       "0  Noncoding  C>A     CCT  \n",
       "1  Noncoding  G>C     TGA  \n",
       "2  Noncoding  G>A     AGA  \n",
       "3  Noncoding  C>G     CCT  \n",
       "4  Noncoding  G>C     TGT  "
      ]
     },
     "execution_count": 4,
     "metadata": {},
     "output_type": "execute_result"
    }
   ],
   "source": [
    "adenocarcinoma_df.head()"
   ]
  },
  {
   "cell_type": "markdown",
   "metadata": {},
   "source": [
    "#### chromosome X are dropped"
   ]
  },
  {
   "cell_type": "code",
   "execution_count": 5,
   "metadata": {},
   "outputs": [
    {
     "data": {
      "text/plain": [
       "{1, 2, 3, 4, 5, 6, 7, 8, 9, 10, 11, 12, 13, 14, 15, 16, 17, 18, 19, 20, 21, 22}"
      ]
     },
     "execution_count": 5,
     "metadata": {},
     "output_type": "execute_result"
    }
   ],
   "source": [
    "set(adenocarcinoma_df['CHROM'])"
   ]
  },
  {
   "cell_type": "markdown",
   "metadata": {},
   "source": [
    "#### 1096 samples in adenocarcinoma"
   ]
  },
  {
   "cell_type": "code",
   "execution_count": 6,
   "metadata": {},
   "outputs": [
    {
     "data": {
      "text/plain": [
       "1096"
      ]
     },
     "execution_count": 6,
     "metadata": {},
     "output_type": "execute_result"
    }
   ],
   "source": [
    "len(set(adenocarcinoma_df['SAMPLE']))"
   ]
  },
  {
   "cell_type": "markdown",
   "metadata": {},
   "source": [
    "#### 7 types of annotation for mutations\n",
    "Single nucleotide variant (SNV): 'Essential_Splice', 'Missense', 'Noncoding', 'Nonsense', 'Stop_loss', 'Synonymous' <br>\n",
    "Multi-nucleotide variants (MNVs): 'INDEL'"
   ]
  },
  {
   "cell_type": "code",
   "execution_count": 7,
   "metadata": {},
   "outputs": [
    {
     "data": {
      "text/plain": [
       "{'Essential_Splice',\n",
       " 'INDEL',\n",
       " 'Missense',\n",
       " 'Noncoding',\n",
       " 'Nonsense',\n",
       " 'Stop_loss',\n",
       " 'Synonymous'}"
      ]
     },
     "execution_count": 7,
     "metadata": {},
     "output_type": "execute_result"
    }
   ],
   "source": [
    "set(adenocarcinoma_df['ANNOT'])"
   ]
  },
  {
   "cell_type": "markdown",
   "metadata": {},
   "source": [
    "#### MNVs REF and ALT lengths"
   ]
  },
  {
   "cell_type": "code",
   "execution_count": 8,
   "metadata": {},
   "outputs": [],
   "source": [
    "adenocarcinoma_indel_df = adenocarcinoma_df[adenocarcinoma_df['ANNOT'] == 'INDEL']"
   ]
  },
  {
   "cell_type": "code",
   "execution_count": 9,
   "metadata": {},
   "outputs": [
    {
     "data": {
      "text/plain": [
       "count    610216.000000\n",
       "mean          3.924963\n",
       "std           8.072942\n",
       "min           1.000000\n",
       "25%           1.000000\n",
       "50%           1.000000\n",
       "75%           2.000000\n",
       "max          99.000000\n",
       "dtype: float64"
      ]
     },
     "execution_count": 9,
     "metadata": {},
     "output_type": "execute_result"
    }
   ],
   "source": [
    "adenocarcinoma_indel_df[adenocarcinoma_indel_df['REF'] != '-'].apply(lambda x: len(x['REF']), axis=1).describe()"
   ]
  },
  {
   "cell_type": "code",
   "execution_count": 10,
   "metadata": {},
   "outputs": [
    {
     "data": {
      "text/plain": [
       "count    369068.000000\n",
       "mean          1.541597\n",
       "std           2.175199\n",
       "min           1.000000\n",
       "25%           1.000000\n",
       "50%           1.000000\n",
       "75%           2.000000\n",
       "max          82.000000\n",
       "dtype: float64"
      ]
     },
     "execution_count": 10,
     "metadata": {},
     "output_type": "execute_result"
    }
   ],
   "source": [
    "adenocarcinoma_indel_df[adenocarcinoma_indel_df['ALT'] != '-'].apply(lambda x: len(x['ALT']), axis=1).describe()"
   ]
  },
  {
   "cell_type": "code",
   "execution_count": 11,
   "metadata": {},
   "outputs": [],
   "source": [
    "import os \n",
    "import glob\n",
    "from pathlib import Path"
   ]
  },
  {
   "cell_type": "markdown",
   "metadata": {},
   "source": [
    "#### number of samples in each cohort "
   ]
  },
  {
   "cell_type": "code",
   "execution_count": 12,
   "metadata": {},
   "outputs": [],
   "source": [
    "cohort_stat_table = []\n",
    "\n",
    "for annot_path in glob.glob(\"/mnt/beegfs/userdata/j_wang/Algorithm_Resources/dig/downloads/mutation_files/PCAWG/ICGC_only/*gz\"):\n",
    "    annot_path = Path(annot_path)\n",
    "    cohort_name= annot_path.name.split('_')[0]\n",
    "    cohort_df  = pd.read_table(annot_path, sep='\\t', header=None, usecols=[5])\n",
    "    cohort_stat_table.append([cohort_name, len(set(cohort_df[5]))])"
   ]
  },
  {
   "cell_type": "code",
   "execution_count": 13,
   "metadata": {},
   "outputs": [],
   "source": [
    "cohort_stat_df = pd.DataFrame(cohort_stat_table, columns=['cohort', 'size'])"
   ]
  },
  {
   "cell_type": "code",
   "execution_count": 14,
   "metadata": {},
   "outputs": [
    {
     "data": {
      "text/html": [
       "<div>\n",
       "<style scoped>\n",
       "    .dataframe tbody tr th:only-of-type {\n",
       "        vertical-align: middle;\n",
       "    }\n",
       "\n",
       "    .dataframe tbody tr th {\n",
       "        vertical-align: top;\n",
       "    }\n",
       "\n",
       "    .dataframe thead th {\n",
       "        text-align: right;\n",
       "    }\n",
       "</style>\n",
       "<table border=\"1\" class=\"dataframe\">\n",
       "  <thead>\n",
       "    <tr style=\"text-align: right;\">\n",
       "      <th></th>\n",
       "      <th>cohort</th>\n",
       "      <th>size</th>\n",
       "    </tr>\n",
       "  </thead>\n",
       "  <tbody>\n",
       "    <tr>\n",
       "      <th>0</th>\n",
       "      <td>Eso-AdenoCa</td>\n",
       "      <td>97</td>\n",
       "    </tr>\n",
       "    <tr>\n",
       "      <th>1</th>\n",
       "      <td>CNS-PiloAstro</td>\n",
       "      <td>89</td>\n",
       "    </tr>\n",
       "    <tr>\n",
       "      <th>2</th>\n",
       "      <td>Breast-LobularCa</td>\n",
       "      <td>7</td>\n",
       "    </tr>\n",
       "    <tr>\n",
       "      <th>3</th>\n",
       "      <td>Lymph-BNHL</td>\n",
       "      <td>98</td>\n",
       "    </tr>\n",
       "    <tr>\n",
       "      <th>4</th>\n",
       "      <td>Ovary-AdenoCA</td>\n",
       "      <td>69</td>\n",
       "    </tr>\n",
       "    <tr>\n",
       "      <th>5</th>\n",
       "      <td>Kidney-RCC</td>\n",
       "      <td>74</td>\n",
       "    </tr>\n",
       "    <tr>\n",
       "      <th>6</th>\n",
       "      <td>Skin-Melanoma</td>\n",
       "      <td>70</td>\n",
       "    </tr>\n",
       "    <tr>\n",
       "      <th>7</th>\n",
       "      <td>Breast</td>\n",
       "      <td>117</td>\n",
       "    </tr>\n",
       "    <tr>\n",
       "      <th>8</th>\n",
       "      <td>Adenocarcinoma</td>\n",
       "      <td>1096</td>\n",
       "    </tr>\n",
       "    <tr>\n",
       "      <th>9</th>\n",
       "      <td>Myeloid-MDS</td>\n",
       "      <td>2</td>\n",
       "    </tr>\n",
       "    <tr>\n",
       "      <th>10</th>\n",
       "      <td>Breast-DCIS</td>\n",
       "      <td>3</td>\n",
       "    </tr>\n",
       "    <tr>\n",
       "      <th>11</th>\n",
       "      <td>CNS-Medullo</td>\n",
       "      <td>141</td>\n",
       "    </tr>\n",
       "    <tr>\n",
       "      <th>12</th>\n",
       "      <td>Lymph-CLL</td>\n",
       "      <td>90</td>\n",
       "    </tr>\n",
       "    <tr>\n",
       "      <th>13</th>\n",
       "      <td>Bone-Epith</td>\n",
       "      <td>11</td>\n",
       "    </tr>\n",
       "    <tr>\n",
       "      <th>14</th>\n",
       "      <td>Female</td>\n",
       "      <td>186</td>\n",
       "    </tr>\n",
       "    <tr>\n",
       "      <th>15</th>\n",
       "      <td>Bone-Osteosarc</td>\n",
       "      <td>41</td>\n",
       "    </tr>\n",
       "    <tr>\n",
       "      <th>16</th>\n",
       "      <td>Pancan</td>\n",
       "      <td>1522</td>\n",
       "    </tr>\n",
       "    <tr>\n",
       "      <th>17</th>\n",
       "      <td>Prost-AdenoCA</td>\n",
       "      <td>180</td>\n",
       "    </tr>\n",
       "    <tr>\n",
       "      <th>18</th>\n",
       "      <td>Head-SCC</td>\n",
       "      <td>13</td>\n",
       "    </tr>\n",
       "    <tr>\n",
       "      <th>19</th>\n",
       "      <td>Panc-AdenoCA</td>\n",
       "      <td>232</td>\n",
       "    </tr>\n",
       "    <tr>\n",
       "      <th>20</th>\n",
       "      <td>Stomach-AdenoCA</td>\n",
       "      <td>32</td>\n",
       "    </tr>\n",
       "    <tr>\n",
       "      <th>21</th>\n",
       "      <td>Myeloid</td>\n",
       "      <td>38</td>\n",
       "    </tr>\n",
       "    <tr>\n",
       "      <th>22</th>\n",
       "      <td>Lymph-NOS</td>\n",
       "      <td>2</td>\n",
       "    </tr>\n",
       "    <tr>\n",
       "      <th>23</th>\n",
       "      <td>CNS</td>\n",
       "      <td>230</td>\n",
       "    </tr>\n",
       "    <tr>\n",
       "      <th>24</th>\n",
       "      <td>Myeloid-MPN</td>\n",
       "      <td>23</td>\n",
       "    </tr>\n",
       "    <tr>\n",
       "      <th>25</th>\n",
       "      <td>Liver-HCC</td>\n",
       "      <td>261</td>\n",
       "    </tr>\n",
       "    <tr>\n",
       "      <th>26</th>\n",
       "      <td>Digestive</td>\n",
       "      <td>656</td>\n",
       "    </tr>\n",
       "    <tr>\n",
       "      <th>27</th>\n",
       "      <td>Glioma</td>\n",
       "      <td>89</td>\n",
       "    </tr>\n",
       "    <tr>\n",
       "      <th>28</th>\n",
       "      <td>Kidney</td>\n",
       "      <td>74</td>\n",
       "    </tr>\n",
       "    <tr>\n",
       "      <th>29</th>\n",
       "      <td>Squamous</td>\n",
       "      <td>13</td>\n",
       "    </tr>\n",
       "    <tr>\n",
       "      <th>30</th>\n",
       "      <td>Lymph</td>\n",
       "      <td>190</td>\n",
       "    </tr>\n",
       "    <tr>\n",
       "      <th>31</th>\n",
       "      <td>Breast-AdenoCa</td>\n",
       "      <td>110</td>\n",
       "    </tr>\n",
       "    <tr>\n",
       "      <th>32</th>\n",
       "      <td>Bone-Cart</td>\n",
       "      <td>9</td>\n",
       "    </tr>\n",
       "    <tr>\n",
       "      <th>33</th>\n",
       "      <td>Sarcoma</td>\n",
       "      <td>61</td>\n",
       "    </tr>\n",
       "    <tr>\n",
       "      <th>34</th>\n",
       "      <td>Biliary-AdenoCA</td>\n",
       "      <td>34</td>\n",
       "    </tr>\n",
       "    <tr>\n",
       "      <th>35</th>\n",
       "      <td>Myeloid-AML</td>\n",
       "      <td>13</td>\n",
       "    </tr>\n",
       "    <tr>\n",
       "      <th>36</th>\n",
       "      <td>Carcinoma</td>\n",
       "      <td>1190</td>\n",
       "    </tr>\n",
       "    <tr>\n",
       "      <th>37</th>\n",
       "      <td>Hematopoietic</td>\n",
       "      <td>228</td>\n",
       "    </tr>\n",
       "    <tr>\n",
       "      <th>38</th>\n",
       "      <td>Panc-Endocrine</td>\n",
       "      <td>81</td>\n",
       "    </tr>\n",
       "  </tbody>\n",
       "</table>\n",
       "</div>"
      ],
      "text/plain": [
       "              cohort  size\n",
       "0        Eso-AdenoCa    97\n",
       "1      CNS-PiloAstro    89\n",
       "2   Breast-LobularCa     7\n",
       "3         Lymph-BNHL    98\n",
       "4      Ovary-AdenoCA    69\n",
       "5         Kidney-RCC    74\n",
       "6      Skin-Melanoma    70\n",
       "7             Breast   117\n",
       "8     Adenocarcinoma  1096\n",
       "9        Myeloid-MDS     2\n",
       "10       Breast-DCIS     3\n",
       "11       CNS-Medullo   141\n",
       "12         Lymph-CLL    90\n",
       "13        Bone-Epith    11\n",
       "14            Female   186\n",
       "15    Bone-Osteosarc    41\n",
       "16            Pancan  1522\n",
       "17     Prost-AdenoCA   180\n",
       "18          Head-SCC    13\n",
       "19      Panc-AdenoCA   232\n",
       "20   Stomach-AdenoCA    32\n",
       "21           Myeloid    38\n",
       "22         Lymph-NOS     2\n",
       "23               CNS   230\n",
       "24       Myeloid-MPN    23\n",
       "25         Liver-HCC   261\n",
       "26         Digestive   656\n",
       "27            Glioma    89\n",
       "28            Kidney    74\n",
       "29          Squamous    13\n",
       "30             Lymph   190\n",
       "31    Breast-AdenoCa   110\n",
       "32         Bone-Cart     9\n",
       "33           Sarcoma    61\n",
       "34   Biliary-AdenoCA    34\n",
       "35       Myeloid-AML    13\n",
       "36         Carcinoma  1190\n",
       "37     Hematopoietic   228\n",
       "38    Panc-Endocrine    81"
      ]
     },
     "execution_count": 14,
     "metadata": {},
     "output_type": "execute_result"
    }
   ],
   "source": [
    "cohort_stat_df"
   ]
  },
  {
   "cell_type": "markdown",
   "metadata": {},
   "source": [
    "#### total number of samples in PCAWG"
   ]
  },
  {
   "cell_type": "code",
   "execution_count": 15,
   "metadata": {},
   "outputs": [
    {
     "data": {
      "text/plain": [
       "7472"
      ]
     },
     "execution_count": 15,
     "metadata": {},
     "output_type": "execute_result"
    }
   ],
   "source": [
    "cohort_stat_df['size'].sum()"
   ]
  },
  {
   "cell_type": "code",
   "execution_count": null,
   "metadata": {},
   "outputs": [],
   "source": []
  }
 ],
 "metadata": {
  "kernelspec": {
   "display_name": "ml",
   "language": "python",
   "name": "ml"
  },
  "language_info": {
   "codemirror_mode": {
    "name": "ipython",
    "version": 3
   },
   "file_extension": ".py",
   "mimetype": "text/x-python",
   "name": "python",
   "nbconvert_exporter": "python",
   "pygments_lexer": "ipython3",
   "version": "3.12.2"
  }
 },
 "nbformat": 4,
 "nbformat_minor": 4
}
